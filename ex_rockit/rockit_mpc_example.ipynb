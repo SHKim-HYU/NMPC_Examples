{
 "cells": [
  {
   "cell_type": "markdown",
   "id": "31024ab6",
   "metadata": {},
   "source": [
    "# Model Predictive Control example"
   ]
  },
  {
   "cell_type": "code",
   "execution_count": 1,
   "id": "b403e4d9",
   "metadata": {},
   "outputs": [],
   "source": [
    "from rockit import *\n",
    "from casadi import *\n",
    "\n",
    "import matplotlib.pyplot as plt\n",
    "import numpy as np"
   ]
  },
  {
   "cell_type": "markdown",
   "id": "4982af35",
   "metadata": {},
   "source": [
    "## Problem parameters"
   ]
  },
  {
   "cell_type": "code",
   "execution_count": 2,
   "id": "c1c1d96c",
   "metadata": {},
   "outputs": [],
   "source": [
    "mcart = 0.5                 # cart mass [kg]\n",
    "m     = 1                   # pendulum mass [kg]\n",
    "L     = 2                   # pendulum length [m]\n",
    "g     = 9.81                # gravitation [m/s^2]\n",
    "\n",
    "nx    = 4                   # the system is composed of 4 states\n",
    "nu    = 1                   # the system has 1 input\n",
    "Tf    = 2.0                 # horizon size [s]\n",
    "Nhor  = 50                  # number of control intervals\n",
    "dt    = Tf/Nhor             # sampling time\n",
    "\n",
    "current_X = vertcat(0.5,0,0,0)  # initial state\n",
    "final_X   = vertcat(0,0,0,0)    # desired terminal state\n",
    "\n",
    "Nsim  = 200                 # how much samples to simulate: total simulation time = Nsim*dt [s]\n",
    "add_noise = True            # enable/disable the measurement noise addition in simulation\n",
    "add_disturbance = True      # enable/disable the disturbance addition in simulation"
   ]
  },
  {
   "cell_type": "markdown",
   "id": "89cabe13",
   "metadata": {},
   "source": [
    "## Logging variables"
   ]
  },
  {
   "cell_type": "code",
   "execution_count": 3,
   "id": "7be4e8c9",
   "metadata": {},
   "outputs": [],
   "source": [
    "pos_history     = np.zeros(Nsim+1)\n",
    "theta_history   = np.zeros(Nsim+1)\n",
    "F_history       = np.zeros(Nsim)"
   ]
  },
  {
   "cell_type": "markdown",
   "id": "30410a51",
   "metadata": {},
   "source": [
    "## Set OCP"
   ]
  },
  {
   "cell_type": "code",
   "execution_count": 4,
   "id": "bd5fdda7",
   "metadata": {},
   "outputs": [],
   "source": [
    "ocp = Ocp(T=Tf)\n",
    "\n",
    "# Define states\n",
    "pos    = ocp.state()  # [m]\n",
    "theta  = ocp.state()  # [rad]\n",
    "dpos   = ocp.state()  # [m/s]\n",
    "dtheta = ocp.state()  # [rad/s]\n",
    "\n",
    "# Defince controls\n",
    "F = ocp.control(nu, order=0)\n",
    "\n",
    "# Define parameter\n",
    "X_0 = ocp.parameter(nx);\n",
    "\n",
    "# Specify ODE\n",
    "ocp.set_der(pos, dpos)\n",
    "ocp.set_der(theta, dtheta)\n",
    "ocp.set_der(dpos, (-m*L*sin(theta)*dtheta*dtheta + m*g*cos(theta)*sin(theta)+F)/(mcart + m - m*cos(theta)*cos(theta)) )\n",
    "ocp.set_der(dtheta, (-m*L*cos(theta)*sin(theta)*dtheta*dtheta + F*cos(theta)+(mcart+m)*g*sin(theta))/(L*(mcart + m - m*cos(theta)*cos(theta))))\n",
    "\n",
    "# Lagrange objective\n",
    "ocp.add_objective(ocp.integral(F*2 + 100*pos**2 + 50*dpos**2))\n",
    "\n",
    "# Initial constraints\n",
    "X = vertcat(pos,theta,dpos,dtheta)\n",
    "ocp.subject_to(ocp.at_t0(X)==X_0)\n",
    "ocp.subject_to(ocp.at_tf(X)==final_X)\n",
    "\n",
    "# Path constraints\n",
    "ocp.subject_to(-2 <= (F <= 2 ))\n",
    "# Note: pos is already fixed at t0 by initial constraints\n",
    "#       include_first False avoids adding a redundant constraint \n",
    "ocp.subject_to(-2 <= (pos <= 2), include_first=False)\n",
    "\n",
    "\n",
    "# Pick a solution method\n",
    "options = {\"ipopt\": {\"print_level\": 0}}\n",
    "options[\"expand\"] = True\n",
    "options[\"print_time\"] = False\n",
    "ocp.solver('ipopt',options)\n",
    "\n",
    "# Make it concrete for this ocp\n",
    "ocp.method(MultipleShooting(N=Nhor,M=1,intg='rk'))"
   ]
  },
  {
   "cell_type": "markdown",
   "id": "d52941b6",
   "metadata": {},
   "source": [
    "## Solve the OCP w.r.t. a parameter value (for the first time)"
   ]
  },
  {
   "cell_type": "code",
   "execution_count": 5,
   "id": "43753985",
   "metadata": {},
   "outputs": [
    {
     "name": "stdout",
     "output_type": "stream",
     "text": [
      "\n",
      "******************************************************************************\n",
      "This program contains Ipopt, a library for large-scale nonlinear optimization.\n",
      " Ipopt is released as open source code under the Eclipse Public License (EPL).\n",
      "         For more information visit https://github.com/coin-or/Ipopt\n",
      "******************************************************************************\n",
      "\n"
     ]
    }
   ],
   "source": [
    "# Set initial value for parameters\n",
    "ocp.set_value(X_0, current_X)\n",
    "# Solve\n",
    "sol = ocp.solve()\n",
    "\n",
    "# Get discretisd dynamics as CasADi function\n",
    "Sim_pendulum_dyn = ocp._method.discrete_system(ocp)\n",
    "\n",
    "# Log data for post-processing\n",
    "pos_history[0]   = current_X[0]\n",
    "theta_history[0] = current_X[1]"
   ]
  },
  {
   "cell_type": "markdown",
   "id": "cbac45af",
   "metadata": {},
   "source": [
    "## Simulate the MPC solving the OCP (with the updated state) several times"
   ]
  },
  {
   "cell_type": "code",
   "execution_count": 6,
   "id": "97bbfdcd",
   "metadata": {},
   "outputs": [
    {
     "name": "stdout",
     "output_type": "stream",
     "text": [
      "timestep 1 of 200\n",
      "timestep 2 of 200\n",
      "timestep 3 of 200\n",
      "timestep 4 of 200\n",
      "timestep 5 of 200\n",
      "timestep 6 of 200\n",
      "timestep 7 of 200\n",
      "timestep 8 of 200\n",
      "timestep 9 of 200\n",
      "timestep 10 of 200\n",
      "timestep 11 of 200\n",
      "timestep 12 of 200\n",
      "timestep 13 of 200\n",
      "timestep 14 of 200\n",
      "timestep 15 of 200\n",
      "timestep 16 of 200\n",
      "timestep 17 of 200\n",
      "timestep 18 of 200\n",
      "timestep 19 of 200\n",
      "timestep 20 of 200\n",
      "timestep 21 of 200\n",
      "timestep 22 of 200\n",
      "timestep 23 of 200\n",
      "timestep 24 of 200\n",
      "timestep 25 of 200\n",
      "timestep 26 of 200\n",
      "timestep 27 of 200\n",
      "timestep 28 of 200\n",
      "timestep 29 of 200\n",
      "timestep 30 of 200\n",
      "timestep 31 of 200\n",
      "timestep 32 of 200\n",
      "timestep 33 of 200\n",
      "timestep 34 of 200\n",
      "timestep 35 of 200\n",
      "timestep 36 of 200\n",
      "timestep 37 of 200\n",
      "timestep 38 of 200\n",
      "timestep 39 of 200\n",
      "timestep 40 of 200\n",
      "timestep 41 of 200\n",
      "timestep 42 of 200\n",
      "timestep 43 of 200\n",
      "timestep 44 of 200\n",
      "timestep 45 of 200\n",
      "timestep 46 of 200\n",
      "timestep 47 of 200\n",
      "timestep 48 of 200\n",
      "timestep 49 of 200\n",
      "timestep 50 of 200\n",
      "timestep 51 of 200\n",
      "timestep 52 of 200\n",
      "timestep 53 of 200\n",
      "timestep 54 of 200\n",
      "timestep 55 of 200\n",
      "timestep 56 of 200\n",
      "timestep 57 of 200\n",
      "timestep 58 of 200\n",
      "timestep 59 of 200\n",
      "timestep 60 of 200\n",
      "timestep 61 of 200\n",
      "timestep 62 of 200\n",
      "timestep 63 of 200\n",
      "timestep 64 of 200\n",
      "timestep 65 of 200\n",
      "timestep 66 of 200\n",
      "timestep 67 of 200\n",
      "timestep 68 of 200\n",
      "timestep 69 of 200\n",
      "timestep 70 of 200\n",
      "timestep 71 of 200\n",
      "timestep 72 of 200\n",
      "timestep 73 of 200\n",
      "timestep 74 of 200\n",
      "timestep 75 of 200\n",
      "timestep 76 of 200\n",
      "timestep 77 of 200\n",
      "timestep 78 of 200\n",
      "timestep 79 of 200\n",
      "timestep 80 of 200\n",
      "timestep 81 of 200\n",
      "timestep 82 of 200\n",
      "timestep 83 of 200\n",
      "timestep 84 of 200\n",
      "timestep 85 of 200\n",
      "timestep 86 of 200\n",
      "timestep 87 of 200\n",
      "timestep 88 of 200\n",
      "timestep 89 of 200\n",
      "timestep 90 of 200\n",
      "timestep 91 of 200\n",
      "timestep 92 of 200\n",
      "timestep 93 of 200\n",
      "timestep 94 of 200\n",
      "timestep 95 of 200\n",
      "timestep 96 of 200\n",
      "timestep 97 of 200\n",
      "timestep 98 of 200\n",
      "timestep 99 of 200\n",
      "timestep 100 of 200\n",
      "timestep 101 of 200\n",
      "timestep 102 of 200\n",
      "timestep 103 of 200\n",
      "timestep 104 of 200\n",
      "timestep 105 of 200\n",
      "timestep 106 of 200\n",
      "timestep 107 of 200\n",
      "timestep 108 of 200\n",
      "timestep 109 of 200\n",
      "timestep 110 of 200\n",
      "timestep 111 of 200\n",
      "timestep 112 of 200\n",
      "timestep 113 of 200\n",
      "timestep 114 of 200\n",
      "timestep 115 of 200\n",
      "timestep 116 of 200\n",
      "timestep 117 of 200\n",
      "timestep 118 of 200\n",
      "timestep 119 of 200\n",
      "timestep 120 of 200\n",
      "timestep 121 of 200\n",
      "timestep 122 of 200\n",
      "timestep 123 of 200\n",
      "timestep 124 of 200\n",
      "timestep 125 of 200\n",
      "timestep 126 of 200\n",
      "timestep 127 of 200\n",
      "timestep 128 of 200\n",
      "timestep 129 of 200\n",
      "timestep 130 of 200\n",
      "timestep 131 of 200\n",
      "timestep 132 of 200\n",
      "timestep 133 of 200\n",
      "timestep 134 of 200\n",
      "timestep 135 of 200\n",
      "timestep 136 of 200\n",
      "timestep 137 of 200\n",
      "timestep 138 of 200\n",
      "timestep 139 of 200\n",
      "timestep 140 of 200\n",
      "timestep 141 of 200\n",
      "timestep 142 of 200\n",
      "timestep 143 of 200\n",
      "timestep 144 of 200\n",
      "timestep 145 of 200\n",
      "timestep 146 of 200\n",
      "timestep 147 of 200\n",
      "timestep 148 of 200\n",
      "timestep 149 of 200\n",
      "timestep 150 of 200\n",
      "timestep 151 of 200\n",
      "timestep 152 of 200\n",
      "timestep 153 of 200\n",
      "timestep 154 of 200\n",
      "timestep 155 of 200\n",
      "timestep 156 of 200\n",
      "timestep 157 of 200\n",
      "timestep 158 of 200\n",
      "timestep 159 of 200\n",
      "timestep 160 of 200\n",
      "timestep 161 of 200\n",
      "timestep 162 of 200\n",
      "timestep 163 of 200\n",
      "timestep 164 of 200\n",
      "timestep 165 of 200\n",
      "timestep 166 of 200\n",
      "timestep 167 of 200\n",
      "timestep 168 of 200\n",
      "timestep 169 of 200\n",
      "timestep 170 of 200\n",
      "timestep 171 of 200\n",
      "timestep 172 of 200\n",
      "timestep 173 of 200\n",
      "timestep 174 of 200\n",
      "timestep 175 of 200\n",
      "timestep 176 of 200\n",
      "timestep 177 of 200\n",
      "timestep 178 of 200\n",
      "timestep 179 of 200\n",
      "timestep 180 of 200\n",
      "timestep 181 of 200\n",
      "timestep 182 of 200\n",
      "timestep 183 of 200\n",
      "timestep 184 of 200\n",
      "timestep 185 of 200\n",
      "timestep 186 of 200\n",
      "timestep 187 of 200\n",
      "timestep 188 of 200\n",
      "timestep 189 of 200\n",
      "timestep 190 of 200\n",
      "timestep 191 of 200\n",
      "timestep 192 of 200\n",
      "timestep 193 of 200\n",
      "timestep 194 of 200\n",
      "timestep 195 of 200\n",
      "timestep 196 of 200\n",
      "timestep 197 of 200\n",
      "timestep 198 of 200\n",
      "timestep 199 of 200\n",
      "timestep 200 of 200\n"
     ]
    }
   ],
   "source": [
    "DM.rng(0)\n",
    "\n",
    "for i in range(Nsim):\n",
    "    print(\"timestep\", i+1, \"of\", Nsim)\n",
    "    \n",
    "    # Get the solution from sol\n",
    "    tsa, Fsol = sol.sample(F, grid='control')\n",
    "    \n",
    "    # Simulate dynamics (applying the first control input) and update the current state\n",
    "    current_X = Sim_pendulum_dyn(x0=current_X, u=Fsol[0], T=dt)[\"xf\"]\n",
    "    \n",
    "    # Add disturbance at t = 2*Tf\n",
    "    if add_disturbance:\n",
    "        if i == round(2*Nhor)-1:\n",
    "            disturbance = vertcat(0,0,-1e-1,0)\n",
    "            current_X = current_X + disturbance\n",
    "    \n",
    "    # Add measurement noise\n",
    "    if add_noise:\n",
    "        meas_noise = 5e-4*(DM.rand(nx,1)-vertcat(1,1,1,1)) # 4x1 vector with values in [-1e-3, 1e-3]\n",
    "        current_X = current_X + meas_noise\n",
    "    \n",
    "    # Set the parameter X0 to the new current_X\n",
    "    ocp.set_value(X_0, current_X[:4])\n",
    "    \n",
    "    # Solve the optimization problem\n",
    "    sol = ocp.solve()\n",
    "\n",
    "    # NOTE: sol.sample/ocp.set_value/ocp.solve\n",
    "    #       bring about some processing overhead\n",
    "    #       which may be larger than the actual online optimization\n",
    "    #       See repeated_solve.py\n",
    "\n",
    "    # Log data for post-processing\n",
    "    pos_history[i+1]   = current_X[0].full()\n",
    "    theta_history[i+1] = current_X[1].full()\n",
    "    F_history[i]       = Fsol[0]\n"
   ]
  },
  {
   "cell_type": "markdown",
   "id": "685a2d03",
   "metadata": {},
   "source": [
    "## Plot the results"
   ]
  },
  {
   "cell_type": "code",
   "execution_count": 7,
   "id": "f2343d7c",
   "metadata": {},
   "outputs": [
    {
     "name": "stdout",
     "output_type": "stream",
     "text": [
      "Plot the results\n"
     ]
    },
    {
     "data": {
      "image/png": "[encoded data removed]",
      "text/plain": [
       "<Figure size 640x480 with 2 Axes>"
      ]
     },
     "metadata": {},
     "output_type": "display_data"
    }
   ],
   "source": [
    "print(\"Plot the results\")\n",
    "time_sim = np.linspace(0, dt*Nsim, Nsim+1)\n",
    "\n",
    "fig, ax1 = plt.subplots()\n",
    "ax1.plot(time_sim, pos_history, 'r-')\n",
    "ax1.set_xlabel('Time [s]')\n",
    "ax1.set_ylabel('Cart position [m]', color='r')\n",
    "ax1.tick_params('y', colors='r')\n",
    "ax2 = ax1.twinx()\n",
    "ax2.plot(time_sim, theta_history, 'b-')\n",
    "ax2.set_ylabel('Pendulum angle [rad]', color='b')\n",
    "ax2.tick_params('y', colors='b')\n",
    "ax2.axvline(x=2*Tf, color='k', linestyle='--')\n",
    "ax2.text(2*Tf+0.1,0.025,'disturbance applied',rotation=90)\n",
    "fig.tight_layout()"
   ]
  },
  {
   "cell_type": "markdown",
   "id": "07428980",
   "metadata": {},
   "source": [
    "## Animate results"
   ]
  },
  {
   "cell_type": "code",
   "execution_count": 9,
   "id": "036c74d0",
   "metadata": {},
   "outputs": [
    {
     "name": "stdout",
     "output_type": "stream",
     "text": [
      "Animate results\n"
     ]
    },
    {
     "data": {
      "image/png": "[encoded data removed]",
      "text/plain": [
       "<Figure size 640x480 with 1 Axes>"
      ]
     },
     "metadata": {},
     "output_type": "display_data"
    },
    {
     "name": "stdout",
     "output_type": "stream",
     "text": [
      "show\n",
      "end\n"
     ]
    }
   ],
   "source": [
    "print(\"Animate results\")\n",
    "\n",
    "plt.ion() # Enable plt interactive\n",
    "if plt.isinteractive(): #False:# \n",
    "  fig2, ax3 = plt.subplots()\n",
    "  plt.ion()\n",
    "  ax3.set_xlabel(\"X [m]\")\n",
    "  ax3.set_ylabel(\"Y [m]\")\n",
    "  for k in range(Nsim+1):\n",
    "      cart_pos_k      = pos_history[k]\n",
    "      theta_k         = theta_history[k]\n",
    "      pendulum_pos_k  = vertcat(horzcat(cart_pos_k,0), vertcat(cart_pos_k-L*sin(theta_k),L*cos(theta_k)).T)\n",
    "      color_k     = 3*[0.95*(1-float(k)/Nsim)]\n",
    "      ax3.plot(pendulum_pos_k[0,0], pendulum_pos_k[0,1], \"s\", markersize = 15, color = color_k)\n",
    "      ax3.plot(pendulum_pos_k[:,0], pendulum_pos_k[:,1], \"-\", linewidth = 1.5, color = color_k)\n",
    "      ax3.plot(pendulum_pos_k[1,0], pendulum_pos_k[1,1], \"o\", markersize = 10, color = color_k)\n",
    "      plt.pause(dt)\n",
    "\n",
    "print(\"show\")\n",
    "plt.show(block=True)\n",
    "print(\"end\")"
   ]
  },
  {
   "cell_type": "code",
   "execution_count": null,
   "id": "7a34af81",
   "metadata": {},
   "outputs": [],
   "source": []
  }
 ],
 "metadata": {
  "kernelspec": {
   "display_name": "tasho_venv",
   "language": "python",
   "name": ".venv"
  },
  "language_info": {
   "codemirror_mode": {
    "name": "ipython",
    "version": 3
   },
   "file_extension": ".py",
   "mimetype": "text/x-python",
   "name": "python",
   "nbconvert_exporter": "python",
   "pygments_lexer": "ipython3",
   "version": "3.9.12"
  }
 },
 "nbformat": 4,
 "nbformat_minor": 5
}
