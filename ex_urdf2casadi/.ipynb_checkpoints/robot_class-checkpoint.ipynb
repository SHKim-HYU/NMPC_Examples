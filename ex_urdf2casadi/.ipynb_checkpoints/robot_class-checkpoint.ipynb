{
 "cells": [
  {
   "cell_type": "markdown",
   "metadata": {},
   "source": [
    "In the notebook, we demonstrate the capabilities of the Robot class. This class provides an easy interface for Casadi functions for robot kinematics and dynamics. \n",
    "\n",
    "These CasADi functions are obained using the state-of-the-art rigid body dynamics library Pinocchio.\n",
    "\n",
    "- Original URDF2CASADI Robot module name is 'robotsmeco' from MECO Team, KU Leuven.\n",
    "- Please refer to https://gitlab.kuleuven.be/meco-software/robot-models-meco\n",
    "```\n",
    "from robotsmeco import Robot as rob\n",
    "```\n",
    "- In this example, customized robot module is adopted: https://github.com/SHKim-HYU/robot-model-hyu\n",
    "```\n",
    "from robotshyu import Robot as rob\n",
    "```"
   ]
  },
  {
   "cell_type": "code",
   "execution_count": 1,
   "metadata": {},
   "outputs": [],
   "source": [
    "# Customized module from Biorobotics LAB, HYU\n",
    "from robotshyu import Robot as rob"
   ]
  },
  {
   "cell_type": "markdown",
   "metadata": {},
   "source": [
    "Load the desired robot as an instance of the Robot class. The possible options currently supported for the robot are:\n",
    "\"atlas\",  \"franka_panda\", \"iiwa14\", \"kinova\",  \"kr60\",  \"yumi\", \"franka_panda_with_gripper\",  \"iiwa7\",   \"kinova_gripper\",  \"kr5\",  \"ur10\", \"indy7\", \"indyrp2\", \"mmo_500_ppr\", \"m0609\", \"xarm6\""
   ]
  },
  {
   "cell_type": "code",
   "execution_count": 2,
   "metadata": {},
   "outputs": [
    {
     "name": "stdout",
     "output_type": "stream",
     "text": [
      "Loading robot params from json ...\n",
      "Loaded 6-DoF robot: indy7\n"
     ]
    }
   ],
   "source": [
    "robot = rob.Robot(\"indy7\", analytical_derivatives=True)"
   ]
  },
  {
   "cell_type": "code",
   "execution_count": 3,
   "metadata": {},
   "outputs": [
    {
     "data": {
      "text/plain": [
       "Function(fk_T:(q[6])->(T_joint0[4x4],T_joint1[4x4],T_joint2[4x4],T_joint3[4x4],T_joint4[4x4],T_joint5[4x4],T_indy7_tcp[4x4]) SXFunction)"
      ]
     },
     "execution_count": 3,
     "metadata": {},
     "output_type": "execute_result"
    }
   ],
   "source": [
    "robot.fk"
   ]
  },
  {
   "cell_type": "markdown",
   "metadata": {},
   "source": [
    "The robot fk function takes as input the joint angles and provides as output the Casadi expressions for the pose of all the links present in the URDF file."
   ]
  },
  {
   "cell_type": "code",
   "execution_count": 4,
   "metadata": {},
   "outputs": [
    {
     "data": {
      "text/plain": [
       "DM(\n",
       "[[1, -4.44089e-16, 1.47911e-31, -1.6398e-16], \n",
       " [4.44089e-16, 1, -4.44089e-16, -0.1865], \n",
       " [4.93038e-32, 4.44089e-16, 1, 1.3275], \n",
       " [0, 0, 0, 1]])"
      ]
     },
     "execution_count": 4,
     "metadata": {},
     "output_type": "execute_result"
    }
   ],
   "source": [
    "robot.fk([0]*robot.ndof)[6]"
   ]
  },
  {
   "cell_type": "markdown",
   "metadata": {},
   "source": [
    "Robot object contains default position and velocity limits of the robot joint positions and velocities, that is read from the URDF file"
   ]
  },
  {
   "cell_type": "code",
   "execution_count": 5,
   "metadata": {},
   "outputs": [
    {
     "name": "stdout",
     "output_type": "stream",
     "text": [
      "Lower bounds of the robot joint positions:  [-3.05433, -3.05433, -3.05433, -3.05433, -3.05433, -3.75246]\n",
      "Upper bounds of the robot joint positions:  [3.05433, 3.05433, 3.05433, 3.05433, 3.05433, 3.75246] \n",
      "\n",
      "\n"
     ]
    }
   ],
   "source": [
    "print(\"Lower bounds of the robot joint positions: \", robot.joint_lb)\n",
    "print(\"Upper bounds of the robot joint positions: \", robot.joint_ub, \"\\n\\n\")"
   ]
  },
  {
   "cell_type": "markdown",
   "metadata": {},
   "source": [
    "The robot jacobian(space, body) can be calculated using J_s, J_b function"
   ]
  },
  {
   "cell_type": "code",
   "execution_count": 6,
   "metadata": {
    "scrolled": true
   },
   "outputs": [
    {
     "data": {
      "text/plain": [
       "DM(\n",
       "[[0, 0.2995, 0.7495, -0.0035, 1.0995, -0.1865], \n",
       " [0, 6.65024e-17, 1.66422e-16, 1.82632e-16, 4.88276e-16, 1.6398e-16], \n",
       " [0, 2.42029e-17, 1.24123e-16, 4.07249e-32, 2.09499e-16, 1.00407e-31], \n",
       " [0, 2.22045e-16, 2.22045e-16, 4.93038e-32, 4.44089e-16, 1.47911e-31], \n",
       " [0, -1, -1, -2.22045e-16, -1, -4.44089e-16], \n",
       " [1, 0, 0, 1, -2.22045e-16, 1]])"
      ]
     },
     "execution_count": 6,
     "metadata": {},
     "output_type": "execute_result"
    }
   ],
   "source": [
    "robot.J_s([0]*robot.ndof)"
   ]
  },
  {
   "cell_type": "code",
   "execution_count": 7,
   "metadata": {},
   "outputs": [
    {
     "data": {
      "text/plain": [
       "DM(\n",
       "[[0.1865, -1.028, -0.578, 0.183, -0.228, 0], \n",
       " [-2.46803e-16, 2.28262e-16, 1.28342e-16, -6.26166e-17, -1.2326e-32, 0], \n",
       " [1.00407e-31, -1.81188e-16, -8.12683e-17, 1.39037e-32, -3.73035e-17, 0], \n",
       " [4.93038e-32, -2.22045e-16, -2.22045e-16, 2.18953e-47, 0, 4.37906e-47], \n",
       " [4.44089e-16, -1, -1, 2.22045e-16, -1, 9.86076e-32], \n",
       " [1, 4.44089e-16, 4.44089e-16, 1, 2.22045e-16, 1]])"
      ]
     },
     "execution_count": 7,
     "metadata": {},
     "output_type": "execute_result"
    }
   ],
   "source": [
    "robot.J_b([0]*robot.ndof)"
   ]
  },
  {
   "cell_type": "markdown",
   "metadata": {},
   "source": [
    "Efficient inverse dynamics and forward dynamics expressions are also available."
   ]
  },
  {
   "cell_type": "code",
   "execution_count": 8,
   "metadata": {},
   "outputs": [
    {
     "data": {
      "text/plain": [
       "Function(id:(q[6],q_dot[6],q_ddot[6])->(tau[6]) SXFunction)"
      ]
     },
     "execution_count": 8,
     "metadata": {},
     "output_type": "execute_result"
    }
   ],
   "source": [
    "robot.id"
   ]
  },
  {
   "cell_type": "code",
   "execution_count": 9,
   "metadata": {},
   "outputs": [
    {
     "data": {
      "text/plain": [
       "DM([-9.86076e-32, -1.05351e-14, -2.88546e-15, -1.14582e-31, -1.46686e-16, 0])"
      ]
     },
     "execution_count": 9,
     "metadata": {},
     "output_type": "execute_result"
    }
   ],
   "source": [
    "# arg: q, qdot, qddot\n",
    "robot.id([0]*robot.ndof,[0]*robot.ndof,[0]*robot.ndof)"
   ]
  },
  {
   "cell_type": "code",
   "execution_count": 10,
   "metadata": {},
   "outputs": [
    {
     "data": {
      "text/plain": [
       "Function(fd:(q[6],q_dot[6],tau[6])->(q_ddot[6]) SXFunction)"
      ]
     },
     "execution_count": 10,
     "metadata": {},
     "output_type": "execute_result"
    }
   ],
   "source": [
    "robot.fd"
   ]
  },
  {
   "cell_type": "markdown",
   "metadata": {},
   "source": [
    "The forward dynamics functions takes joint angles, velocities and joint torques as input and returns the joint accelerations."
   ]
  },
  {
   "cell_type": "code",
   "execution_count": 11,
   "metadata": {},
   "outputs": [
    {
     "data": {
      "text/plain": [
       "DM([1.25131e-15, 5.62301e-15, -3.40275e-15, 1.99883e-14, 1.06352e-14, -2.12286e-14])"
      ]
     },
     "execution_count": 11,
     "metadata": {},
     "output_type": "execute_result"
    }
   ],
   "source": [
    "# arg: q, qdot, tau\n",
    "robot.fd([0]*robot.ndof, [0]*robot.ndof, [0]*robot.ndof)"
   ]
  },
  {
   "cell_type": "markdown",
   "metadata": {},
   "source": [
    "Dynamics function such as Mass matrix, Mass inverse, Coriolis, Gravity"
   ]
  },
  {
   "cell_type": "code",
   "execution_count": 12,
   "metadata": {},
   "outputs": [
    {
     "data": {
      "text/plain": [
       "DM(\n",
       "[[0.563162, -0.39724, -0.13356, 0.0610756, -0.0125628, 0.00059634], \n",
       " [-0.39724, 3.58424, 1.25873, -0.278455, 0.0683465, -5.1e-07], \n",
       " [-0.13356, 1.25873, 0.549731, -0.128038, 0.038043, -5.1e-07], \n",
       " [0.0610756, -0.278455, -0.128038, 0.0599057, -0.0123271, 0.00059634], \n",
       " [-0.0125628, 0.0683465, 0.038043, -0.0123271, 0.0144737, -5.1e-07], \n",
       " [0.00059634, -5.1e-07, -5.1e-07, 0.00059634, -5.1e-07, 0.00059634]])"
      ]
     },
     "execution_count": 12,
     "metadata": {},
     "output_type": "execute_result"
    }
   ],
   "source": [
    "# arg: q\n",
    "robot.M([0]*robot.ndof)"
   ]
  },
  {
   "cell_type": "code",
   "execution_count": 13,
   "metadata": {},
   "outputs": [
    {
     "data": {
      "text/plain": [
       "DM(\n",
       "[[2.06565, 0.326748, -0.782851, -2.16618, 0.46274, 0.10054], \n",
       " [0.326748, 1.54557, -3.81111, -0.826595, 2.2985, 0.499875], \n",
       " [-0.782851, -3.81111, 13.2095, 9.48393, -9.32623, -8.70101], \n",
       " [-2.16618, -0.826595, 9.48393, 37.5488, 9.07401, -35.3674], \n",
       " [0.46274, 2.2985, -9.32623, 9.07401, 90.8799, -9.46504], \n",
       " [0.10054, 0.499875, -8.70101, -35.3674, -9.46504, 1712.15]])"
      ]
     },
     "execution_count": 13,
     "metadata": {},
     "output_type": "execute_result"
    }
   ],
   "source": [
    "# arg: q\n",
    "robot.Minv([0]*robot.ndof)"
   ]
  },
  {
   "cell_type": "code",
   "execution_count": 14,
   "metadata": {},
   "outputs": [
    {
     "data": {
      "text/plain": [
       "DM(\n",
       "[[0, 0, 0, 0, 0, 0], \n",
       " [0, 0, 0, 0, 0, 0], \n",
       " [0, 0, 0, 0, 0, 0], \n",
       " [0, 0, 0, 0, 0, 0], \n",
       " [0, 0, 0, 0, 0, 0], \n",
       " [0, 0, 0, 0, 0, 0]])"
      ]
     },
     "execution_count": 14,
     "metadata": {},
     "output_type": "execute_result"
    }
   ],
   "source": [
    "# arg: q, qdot\n",
    "robot.C([0]*robot.ndof,[0]*robot.ndof)"
   ]
  },
  {
   "cell_type": "code",
   "execution_count": 15,
   "metadata": {},
   "outputs": [
    {
     "data": {
      "text/plain": [
       "DM([-9.86076e-32, -1.05351e-14, -2.88546e-15, -1.14582e-31, -1.46686e-16, 0])"
      ]
     },
     "execution_count": 15,
     "metadata": {},
     "output_type": "execute_result"
    }
   ],
   "source": [
    "# arg: q\n",
    "robot.G([0]*robot.ndof)"
   ]
  },
  {
   "cell_type": "markdown",
   "metadata": {},
   "source": [
    "Analytical derivatives of robot dynamics computed using Pinocchio is also available. The analytical derivative computation can be up to two times faster than automatic differentiation. "
   ]
  },
  {
   "cell_type": "code",
   "execution_count": 16,
   "metadata": {
    "scrolled": true
   },
   "outputs": [
    {
     "data": {
      "text/plain": [
       "Function(jac_fd:(q[6],q_dot[6],tau[6])->(jac_fd[6x18]) SXFunction)"
      ]
     },
     "execution_count": 16,
     "metadata": {},
     "output_type": "execute_result"
    }
   ],
   "source": [
    "robot.J_fd"
   ]
  },
  {
   "cell_type": "markdown",
   "metadata": {},
   "source": [
    "This submodule of Tasho is almost a stand-alone contribution. These CasADi expressions can be used by anyone that is implementing robot MPC/OCP using CasADi, even if they are not using Tasho."
   ]
  }
 ],
 "metadata": {
  "interpreter": {
   "hash": "1b8405a901ae45472f727105095765b8a51d551e2bf6b463408f3471075edfd3"
  },
  "kernelspec": {
   "display_name": "tasho_venv",
   "language": "python",
   "name": ".venv"
  },
  "language_info": {
   "codemirror_mode": {
    "name": "ipython",
    "version": 3
   },
   "file_extension": ".py",
   "mimetype": "text/x-python",
   "name": "python",
   "nbconvert_exporter": "python",
   "pygments_lexer": "ipython3",
   "version": "3.8.10"
  }
 },
 "nbformat": 4,
 "nbformat_minor": 2
}
