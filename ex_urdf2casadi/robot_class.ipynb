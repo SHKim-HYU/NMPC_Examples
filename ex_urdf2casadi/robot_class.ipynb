{
 "cells": [
  {
   "cell_type": "markdown",
   "metadata": {},
   "source": [
    "In the notebook, we demonstrate the capabilities of the Robot class. This class provides an easy interface for Casadi functions for robot kinematics and dynamics. \n",
    "\n",
    "These CasADi functions are obained using the state-of-the-art rigid body dynamics library Pinocchio.\n",
    "\n",
    "- Original URDF2CASADI Robot module name is 'robotsmeco' from MECO Team, KU Leuven.\n",
    "- Please refer to https://gitlab.kuleuven.be/meco-software/robot-models-meco\n",
    "```\n",
    "from robotsmeco import Robot as rob\n",
    "```\n",
    "- In this example, customized robot module is adopted: https://github.com/SHKim-HYU/robot-model-hyu\n",
    "```\n",
    "from robotshyu import Robot as rob\n",
    "```"
   ]
  },
  {
   "cell_type": "code",
   "execution_count": 14,
   "metadata": {},
   "outputs": [],
   "source": [
    "# Customized module from Biorobotics LAB, HYU\n",
    "from robotshyu import Robot as rob"
   ]
  },
  {
   "cell_type": "markdown",
   "metadata": {},
   "source": [
    "Load the desired robot as an instance of the Robot class. The possible options currently supported for the robot are:\n",
    "\"atlas\",  \"franka_panda\", \"iiwa14\", \"kinova\",  \"kr60\",  \"yumi\", \"franka_panda_with_gripper\",  \"iiwa7\",   \"kinova_gripper\",  \"kr5\",  \"ur10\", \"indy7\", \"indyrp2\", \"mmo_500_ppr\", \"m0609\", \"xarm6\""
   ]
  },
  {
   "cell_type": "code",
   "execution_count": 15,
   "metadata": {},
   "outputs": [
    {
     "name": "stdout",
     "output_type": "stream",
     "text": [
      "Loading robot params from json ...\n",
      "Loaded 7-DoF robot: kinova\n",
      "['J_fd', 'J_id', '__class__', '__delattr__', '__dict__', '__dir__', '__doc__', '__eq__', '__format__', '__ge__', '__getattribute__', '__gt__', '__hash__', '__init__', '__init_subclass__', '__le__', '__lt__', '__module__', '__ne__', '__new__', '__reduce__', '__reduce_ex__', '__repr__', '__setattr__', '__sizeof__', '__str__', '__subclasshook__', '__weakref__', 'current_state', 'fd', 'fk', 'generate_random_configuration', 'get_initial_conditions', 'gravity', 'id', 'input_resolution', 'inputs', 'joint_acc_lb', 'joint_acc_ub', 'joint_lb', 'joint_name', 'joint_torque_lb', 'joint_torque_ub', 'joint_ub', 'joint_vel_lb', 'joint_vel_ub', 'load_from_json', 'name', 'ndof', 'nq', 'parameters', 'set_joint_acceleration_limits', 'set_joint_limits', 'set_joint_torque_limits', 'set_joint_velocity_limits', 'set_kinematic_jacobian', 'set_name', 'set_state', 'states', 'torque_lb', 'torque_ub']\n"
     ]
    }
   ],
   "source": [
    "robot = rob.Robot(\"indy7\", analytical_derivatives=True)\n",
    "print(dir(robot))"
   ]
  },
  {
   "cell_type": "code",
   "execution_count": 16,
   "metadata": {},
   "outputs": [
    {
     "data": {
      "text/plain": [
       "Function(fk_T:(q[7])->(T_Actuator1[4x4],T_Actuator2[4x4],T_Actuator3[4x4],T_Actuator4[4x4],T_Actuator5[4x4],T_Actuator6[4x4],T_Actuator7[4x4],T_EndEffector[4x4]) SXFunction)"
      ]
     },
     "execution_count": 16,
     "metadata": {},
     "output_type": "execute_result"
    }
   ],
   "source": [
    "robot.fk"
   ]
  },
  {
   "cell_type": "markdown",
   "metadata": {},
   "source": [
    "The robot fk function takes as input the joint angles and provides as output the Casadi expressions for the pose of all the links present in the URDF file."
   ]
  },
  {
   "cell_type": "code",
   "execution_count": 17,
   "metadata": {},
   "outputs": [
    {
     "data": {
      "text/plain": [
       "DM(\n",
       "[[1, -7.7924e-15, -2.72832e-16, 6.1995e-05], \n",
       " [7.7924e-15, 1, 8.47033e-22, -0.0248445], \n",
       " [2.72832e-16, -8.47033e-22, 1, 1.18739], \n",
       " [0, 0, 0, 1]])"
      ]
     },
     "execution_count": 17,
     "metadata": {},
     "output_type": "execute_result"
    }
   ],
   "source": [
    "robot.fk([0]*robot.ndof)[7]"
   ]
  },
  {
   "cell_type": "markdown",
   "metadata": {},
   "source": [
    "Robot object contains default position and velocity limits of the robot joint positions and velocities, that is read from the URDF file"
   ]
  },
  {
   "cell_type": "code",
   "execution_count": 18,
   "metadata": {},
   "outputs": [
    {
     "name": "stdout",
     "output_type": "stream",
     "text": [
      "Lower bounds of the robot joint positions:  [-inf, -2.2, -inf, -2.5656, -inf, -2.05, -inf]\n",
      "Upper bounds of the robot joint positions:  [inf, 2.2, inf, 2.5656, inf, 2.05, inf] \n",
      "\n",
      "\n"
     ]
    }
   ],
   "source": [
    "print(\"Lower bounds of the robot joint positions: \", robot.joint_lb)\n",
    "print(\"Upper bounds of the robot joint positions: \", robot.joint_ub, \"\\n\\n\")"
   ]
  },
  {
   "cell_type": "markdown",
   "metadata": {},
   "source": [
    "Efficient inverse dynamics and forward dynamics expressions are also available."
   ]
  },
  {
   "cell_type": "code",
   "execution_count": 19,
   "metadata": {},
   "outputs": [
    {
     "data": {
      "text/plain": [
       "Function(fd:(q[7],q_dot[7],tau[7])->(q_ddot[7]) SXFunction)"
      ]
     },
     "execution_count": 19,
     "metadata": {},
     "output_type": "execute_result"
    }
   ],
   "source": [
    "robot.fd"
   ]
  },
  {
   "cell_type": "markdown",
   "metadata": {},
   "source": [
    "The forward dynamics functions takes joint angles, velocities and joint torques as input and returns the joint accelerations."
   ]
  },
  {
   "cell_type": "code",
   "execution_count": 20,
   "metadata": {},
   "outputs": [
    {
     "data": {
      "text/plain": [
       "DM([-0.0143289, -0.00529344, 0.0284509, 0.0444379, -0.114052, -0.235214, 0.209599])"
      ]
     },
     "execution_count": 20,
     "metadata": {},
     "output_type": "execute_result"
    }
   ],
   "source": [
    "robot.fd([0]*robot.ndof, [0]*robot.ndof, [0]*robot.ndof)"
   ]
  },
  {
   "cell_type": "markdown",
   "metadata": {},
   "source": [
    "Analytical derivatives of robot dynamics computed using Pinocchio is also available. The analytical derivative computation can be up to two times faster than automatic differentiation. "
   ]
  },
  {
   "cell_type": "code",
   "execution_count": 23,
   "metadata": {
    "scrolled": true
   },
   "outputs": [
    {
     "data": {
      "text/plain": [
       "Function(jac_fd:(q[7],q_dot[7],tau[7])->(jac_fd[7x21]) SXFunction)"
      ]
     },
     "execution_count": 23,
     "metadata": {},
     "output_type": "execute_result"
    }
   ],
   "source": [
    "robot.J_fd"
   ]
  },
  {
   "cell_type": "markdown",
   "metadata": {},
   "source": [
    "This submodule of Tasho is almost a stand-alone contribution. These CasADi expressions can be used by anyone that is implementing robot MPC/OCP using CasADi, even if they are not using Tasho."
   ]
  }
 ],
 "metadata": {
  "interpreter": {
   "hash": "1b8405a901ae45472f727105095765b8a51d551e2bf6b463408f3471075edfd3"
  },
  "kernelspec": {
   "display_name": "tasho_venv",
   "language": "python",
   "name": ".venv"
  },
  "language_info": {
   "codemirror_mode": {
    "name": "ipython",
    "version": 3
   },
   "file_extension": ".py",
   "mimetype": "text/x-python",
   "name": "python",
   "nbconvert_exporter": "python",
   "pygments_lexer": "ipython3",
   "version": "3.8.10"
  }
 },
 "nbformat": 4,
 "nbformat_minor": 2
}
