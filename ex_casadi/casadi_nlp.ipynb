{
 "cells": [
  {
   "cell_type": "markdown",
   "id": "86ef6dd2",
   "metadata": {},
   "source": [
    "# NLP\n",
    "\n",
    "minimize   x^2+100z^2  \n",
    " x,y,z\n",
    " \t\n",
    "subject to z+(1-x)^2-y=0"
   ]
  },
  {
   "cell_type": "code",
   "execution_count": 3,
   "id": "1fe1d418",
   "metadata": {},
   "outputs": [],
   "source": [
    "from casadi import *\n",
    "# Symbols/expressions\n",
    "x = MX.sym('x')\n",
    "y = MX.sym('y')\n",
    "z = MX.sym('z')\n",
    "f = x**2+100*z**2\n",
    "g = z+(1-x)**2-y"
   ]
  },
  {
   "cell_type": "code",
   "execution_count": 4,
   "id": "ceccb8ce",
   "metadata": {},
   "outputs": [],
   "source": [
    "nlp = {}                 # NLP declaration\n",
    "nlp['x']= vertcat(x,y,z) # decision vars\n",
    "nlp['f'] = f             # objective\n",
    "nlp['g'] = g             # constraints"
   ]
  },
  {
   "cell_type": "code",
   "execution_count": 5,
   "id": "ec7df6cb",
   "metadata": {},
   "outputs": [],
   "source": [
    "# Create solver instance\n",
    "F = nlpsol('F','ipopt',nlp);"
   ]
  },
  {
   "cell_type": "code",
   "execution_count": 7,
   "id": "1162afd6",
   "metadata": {},
   "outputs": [
    {
     "name": "stdout",
     "output_type": "stream",
     "text": [
      "This is Ipopt version 3.12.7, running with linear solver ma27.\n",
      "\n",
      "Number of nonzeros in equality constraint Jacobian...:        3\n",
      "Number of nonzeros in inequality constraint Jacobian.:        0\n",
      "Number of nonzeros in Lagrangian Hessian.............:        2\n",
      "\n",
      "Total number of variables............................:        3\n",
      "                     variables with only lower bounds:        0\n",
      "                variables with lower and upper bounds:        0\n",
      "                     variables with only upper bounds:        0\n",
      "Total number of equality constraints.................:        1\n",
      "Total number of inequality constraints...............:        0\n",
      "        inequality constraints with only lower bounds:        0\n",
      "   inequality constraints with lower and upper bounds:        0\n",
      "        inequality constraints with only upper bounds:        0\n",
      "\n",
      "iter    objective    inf_pr   inf_du lg(mu)  ||d||  lg(rg) alpha_du alpha_pr  ls\n",
      "   0  8.6500000e+01 1.80e+01 9.80e+01  -1.0 0.00e+00    -  0.00e+00 0.00e+00   0\n",
      "   1  1.1916474e+01 4.21e+00 1.25e+00  -1.0 2.05e+00   0.0 1.00e+00 1.00e+00f  1\n",
      "   2  3.5192342e+00 2.48e+00 1.17e+00  -1.0 3.51e+00  -0.5 1.00e+00 1.00e+00f  1\n",
      "   3  3.4614884e-01 6.00e+00 4.27e+00  -1.0 2.45e+00  -0.1 1.00e+00 1.00e+00f  1\n",
      "   4  3.5781394e-01 5.84e+00 2.31e+00  -1.0 8.59e+00  -0.5 1.00e+00 2.50e-01h  3\n",
      "   5  2.1641581e+00 5.15e+00 4.70e+00  -1.0 3.50e+00   0.8 1.00e+00 2.50e-01h  3\n",
      "   6  1.4228435e+00 6.93e-02 1.59e+00  -1.0 4.93e+00    -  1.00e+00 1.00e+00h  1\n",
      "   7  0.0000000e+00 1.42e+00 0.00e+00  -1.0 1.19e+00    -  1.00e+00 1.00e+00f  1\n",
      "   8  0.0000000e+00 0.00e+00 0.00e+00  -1.0 1.42e+00    -  1.00e+00 1.00e+00h  1\n",
      "\n",
      "Number of Iterations....: 8\n",
      "\n",
      "                                   (scaled)                 (unscaled)\n",
      "Objective...............:   0.0000000000000000e+00    0.0000000000000000e+00\n",
      "Dual infeasibility......:   0.0000000000000000e+00    0.0000000000000000e+00\n",
      "Constraint violation....:   0.0000000000000000e+00    0.0000000000000000e+00\n",
      "Complementarity.........:   0.0000000000000000e+00    0.0000000000000000e+00\n",
      "Overall NLP error.......:   0.0000000000000000e+00    0.0000000000000000e+00\n",
      "\n",
      "\n",
      "Number of objective function evaluations             = 15\n",
      "Number of objective gradient evaluations             = 9\n",
      "Number of equality constraint evaluations            = 15\n",
      "Number of inequality constraint evaluations          = 0\n",
      "Number of equality constraint Jacobian evaluations   = 9\n",
      "Number of inequality constraint Jacobian evaluations = 0\n",
      "Number of Lagrangian Hessian evaluations             = 8\n",
      "Total CPU secs in IPOPT (w/o function evaluations)   =      0.002\n",
      "Total CPU secs in NLP function evaluations           =      0.000\n",
      "\n",
      "EXIT: Optimal Solution Found.\n",
      "           F  :   t_proc      (avg)   t_wall      (avg)    n_eval\n",
      "       nlp_f  |  25.00us (  1.67us)  21.70us (  1.45us)        15\n",
      "       nlp_g  |  37.00us (  2.47us)  37.30us (  2.49us)        15\n",
      "  nlp_grad_f  |  33.00us (  3.30us)  32.82us (  3.28us)        10\n",
      "  nlp_hess_l  |  25.00us (  3.12us)  24.62us (  3.08us)         8\n",
      "   nlp_jac_g  |  27.00us (  2.70us)  25.28us (  2.53us)        10\n",
      "       total  |   2.88ms (  2.88ms)   2.86ms (  2.86ms)         1\n"
     ]
    },
    {
     "data": {
      "text/plain": [
       "{'f': DM(0),\n",
       " 'g': DM(0),\n",
       " 'lam_g': DM(0),\n",
       " 'lam_p': DM([]),\n",
       " 'lam_x': DM([0, 0, 0]),\n",
       " 'x': DM([0, 1, 0])}"
      ]
     },
     "execution_count": 7,
     "metadata": {},
     "output_type": "execute_result"
    }
   ],
   "source": [
    "# Solve the problem using a guess\n",
    "F(x0=[5.5,3.0,0.75],ubg=0,lbg=0)"
   ]
  },
  {
   "cell_type": "code",
   "execution_count": null,
   "id": "0304ba4a",
   "metadata": {},
   "outputs": [],
   "source": []
  }
 ],
 "metadata": {
  "kernelspec": {
   "display_name": "Python 3 (ipykernel)",
   "language": "python",
   "name": "python3"
  },
  "language_info": {
   "codemirror_mode": {
    "name": "ipython",
    "version": 3
   },
   "file_extension": ".py",
   "mimetype": "text/x-python",
   "name": "python",
   "nbconvert_exporter": "python",
   "pygments_lexer": "ipython3",
   "version": "3.8.10"
  }
 },
 "nbformat": 4,
 "nbformat_minor": 5
}
