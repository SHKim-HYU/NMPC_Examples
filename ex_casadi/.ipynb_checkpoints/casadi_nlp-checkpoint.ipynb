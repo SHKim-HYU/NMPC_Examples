{
 "cells": [
  {
   "cell_type": "markdown",
   "id": "86ef6dd2",
   "metadata": {},
   "source": [
    "# NLP\n",
    "\n",
    "minimize   x^2+100z^2  \n",
    " x,y,z\n",
    " \t\n",
    "subject to z+(1-x)^2-y=0"
   ]
  },
  {
   "cell_type": "code",
   "execution_count": 5,
   "id": "1fe1d418",
   "metadata": {},
   "outputs": [],
   "source": [
    "from casadi import *\n",
    "# Symbols/expressions\n",
    "x = MX.sym('x')\n",
    "y = MX.sym('y')\n",
    "z = MX.sym('z')\n",
    "f = x**2+100*z**2\n",
    "g = z+(1-x)**2-y"
   ]
  },
  {
   "cell_type": "code",
   "execution_count": 6,
   "id": "ceccb8ce",
   "metadata": {},
   "outputs": [],
   "source": [
    "nlp = {}                 # NLP declaration\n",
    "nlp['x']= vertcat(x,y,z) # decision vars\n",
    "nlp['f'] = f             # objective\n",
    "nlp['g'] = g             # constraints"
   ]
  },
  {
   "cell_type": "code",
   "execution_count": 7,
   "id": "ec7df6cb",
   "metadata": {},
   "outputs": [],
   "source": [
    "# Create solver instance\n",
    "F = nlpsol('F','ipopt',nlp);"
   ]
  },
  {
   "cell_type": "code",
   "execution_count": 8,
   "id": "1162afd6",
   "metadata": {},
   "outputs": [
    {
     "name": "stdout",
     "output_type": "stream",
     "text": [
      "This is Ipopt version 3.12.7, running with linear solver ma27.\n",
      "\n",
      "Number of nonzeros in equality constraint Jacobian...:        3\n",
      "Number of nonzeros in inequality constraint Jacobian.:        0\n",
      "Number of nonzeros in Lagrangian Hessian.............:        2\n",
      "\n",
      "Total number of variables............................:        3\n",
      "                     variables with only lower bounds:        0\n",
      "                variables with lower and upper bounds:        0\n",
      "                     variables with only upper bounds:        0\n",
      "Total number of equality constraints.................:        1\n",
      "Total number of inequality constraints...............:        0\n",
      "        inequality constraints with only lower bounds:        0\n",
      "   inequality constraints with lower and upper bounds:        0\n",
      "        inequality constraints with only upper bounds:        0\n",
      "\n",
      "iter    objective    inf_pr   inf_du lg(mu)  ||d||  lg(rg) alpha_du alpha_pr  ls\n",
      "   0  6.2500000e+01 0.00e+00 9.00e+01  -1.0 0.00e+00    -  0.00e+00 0.00e+00   0\n",
      "   1  1.8457621e+01 1.48e-02 4.10e+01  -1.0 4.10e-01   2.0 1.00e+00 1.00e+00f  1\n",
      "   2  7.8031530e+00 3.84e-03 8.76e+00  -1.0 2.63e-01   1.5 1.00e+00 1.00e+00f  1\n",
      "   3  7.1678278e+00 9.42e-05 1.04e+00  -1.0 9.32e-02   1.0 1.00e+00 1.00e+00f  1\n",
      "   4  6.7419924e+00 6.18e-03 9.95e-01  -1.0 2.69e-01   0.6 1.00e+00 1.00e+00f  1\n",
      "   5  5.4363330e+00 7.03e-02 1.04e+00  -1.7 8.40e-01   0.1 1.00e+00 1.00e+00f  1\n",
      "   6  1.2144815e+00 1.52e+00 1.32e+00  -1.7 3.21e+00  -0.4 1.00e+00 1.00e+00f  1\n",
      "   7  1.0214718e+00 2.51e-01 1.17e+01  -1.7 1.33e+00   0.9 1.00e+00 1.00e+00h  1\n",
      "   8  3.1864085e-01 1.04e-03 7.53e-01  -1.7 3.58e-01    -  1.00e+00 1.00e+00f  1\n",
      "   9  0.0000000e+00 3.19e-01 0.00e+00  -1.7 5.64e-01    -  1.00e+00 1.00e+00f  1\n",
      "iter    objective    inf_pr   inf_du lg(mu)  ||d||  lg(rg) alpha_du alpha_pr  ls\n",
      "  10  0.0000000e+00 0.00e+00 0.00e+00  -1.7 3.19e-01    -  1.00e+00 1.00e+00h  1\n",
      "\n",
      "Number of Iterations....: 10\n",
      "\n",
      "                                   (scaled)                 (unscaled)\n",
      "Objective...............:   0.0000000000000000e+00    0.0000000000000000e+00\n",
      "Dual infeasibility......:   0.0000000000000000e+00    0.0000000000000000e+00\n",
      "Constraint violation....:   0.0000000000000000e+00    0.0000000000000000e+00\n",
      "Complementarity.........:   0.0000000000000000e+00    0.0000000000000000e+00\n",
      "Overall NLP error.......:   0.0000000000000000e+00    0.0000000000000000e+00\n",
      "\n",
      "\n",
      "Number of objective function evaluations             = 11\n",
      "Number of objective gradient evaluations             = 11\n",
      "Number of equality constraint evaluations            = 11\n",
      "Number of inequality constraint evaluations          = 0\n",
      "Number of equality constraint Jacobian evaluations   = 11\n",
      "Number of inequality constraint Jacobian evaluations = 0\n",
      "Number of Lagrangian Hessian evaluations             = 10\n",
      "Total CPU secs in IPOPT (w/o function evaluations)   =      0.001\n",
      "Total CPU secs in NLP function evaluations           =      0.000\n",
      "\n",
      "EXIT: Optimal Solution Found.\n",
      "           F  :   t_proc      (avg)   t_wall      (avg)    n_eval\n",
      "       nlp_f  |  16.00us (  1.45us)  17.12us (  1.56us)        11\n",
      "       nlp_g  |  36.00us (  3.27us)  34.14us (  3.10us)        11\n",
      "  nlp_grad_f  |  37.00us (  3.08us)  37.31us (  3.11us)        12\n",
      "  nlp_hess_l  |  32.00us (  3.20us)  32.86us (  3.29us)        10\n",
      "   nlp_jac_g  |  28.00us (  2.33us)  28.09us (  2.34us)        12\n",
      "       total  |   3.30ms (  3.30ms)   3.28ms (  3.28ms)         1\n"
     ]
    },
    {
     "data": {
      "text/plain": [
       "{'f': DM(0),\n",
       " 'g': DM(0),\n",
       " 'lam_g': DM(0),\n",
       " 'lam_p': DM([]),\n",
       " 'lam_x': DM([0, 0, 0]),\n",
       " 'x': DM([0, 1, 0])}"
      ]
     },
     "execution_count": 8,
     "metadata": {},
     "output_type": "execute_result"
    }
   ],
   "source": [
    "# Solve the problem using a guess\n",
    "F(x0=[2.5,3.0,0.75],ubg=0,lbg=0)"
   ]
  },
  {
   "cell_type": "code",
   "execution_count": null,
   "id": "0304ba4a",
   "metadata": {},
   "outputs": [],
   "source": []
  }
 ],
 "metadata": {
  "kernelspec": {
   "display_name": "tasho_venv",
   "language": "python",
   "name": ".venv"
  },
  "language_info": {
   "codemirror_mode": {
    "name": "ipython",
    "version": 3
   },
   "file_extension": ".py",
   "mimetype": "text/x-python",
   "name": "python",
   "nbconvert_exporter": "python",
   "pygments_lexer": "ipython3",
   "version": "3.8.10"
  }
 },
 "nbformat": 4,
 "nbformat_minor": 5
}
